{
 "cells": [
  {
   "cell_type": "code",
   "execution_count": 1,
   "metadata": {
    "collapsed": true
   },
   "outputs": [],
   "source": [
    "import numpy as np\n",
    "import struct\n",
    "from numpy import linalg as LA"
   ]
  },
  {
   "cell_type": "code",
   "execution_count": 2,
   "metadata": {
    "collapsed": true
   },
   "outputs": [],
   "source": [
    "def getData(trainOrTest = 'testing'):\n",
    "    \n",
    "    if trainOrTest == \"training\":\n",
    "        fname_img = \"./Data/trainSetImg\"\n",
    "        fname_lbl = \"./Data/trainSetLab\"\n",
    "    else:\n",
    "        fname_img = \"./Data/testSetImg\"\n",
    "        fname_lbl = \"./Data/testSetLab\"\n",
    "\n",
    "    # Load everything in some numpy arrays\n",
    "    with open(fname_lbl, 'rb') as flbl:\n",
    "        magic, num = struct.unpack(\">II\", flbl.read(8))\n",
    "        lbl = np.fromfile(flbl, dtype=np.int8)\n",
    "\n",
    "    with open(fname_img, 'rb') as fimg:\n",
    "        magic, num, rows, cols = struct.unpack(\">IIII\", fimg.read(16))\n",
    "        img = np.fromfile(fimg, dtype=np.uint8).reshape(len(lbl), rows, cols)\n",
    "\n",
    "    return list(zip(img, lbl))"
   ]
  },
  {
   "cell_type": "code",
   "execution_count": 3,
   "metadata": {
    "collapsed": true
   },
   "outputs": [],
   "source": [
    "trainingData = getData('training')\n",
    "testingData = getData('testing')"
   ]
  },
  {
   "cell_type": "code",
   "execution_count": 4,
   "metadata": {
    "collapsed": true
   },
   "outputs": [],
   "source": [
    "def getAccuracy(list1, list2):\n",
    "    if len(list1) != len(list2):\n",
    "        return 'Error: sizes are not the same'\n",
    "    counter = 0\n",
    "    for i, j in zip(list1, list2):\n",
    "        if i == j: \n",
    "            counter += 1\n",
    "    return counter / len(list1)"
   ]
  },
  {
   "cell_type": "code",
   "execution_count": 5,
   "metadata": {},
   "outputs": [
    {
     "name": "stdout",
     "output_type": "stream",
     "text": [
      "Accuracy when always predicting 0: 0.098\n"
     ]
    }
   ],
   "source": [
    "# Method 1: Always guess 0\n",
    "def predictZero(data):\n",
    "    return [0] * len(data)\n",
    "\n",
    "accuracy = getAccuracy(predictZero(testingData), [digit[1] for digit in testingData])\n",
    "print('Accuracy when always predicting 0: ' + str(accuracy))"
   ]
  },
  {
   "cell_type": "code",
   "execution_count": 6,
   "metadata": {
    "collapsed": true
   },
   "outputs": [],
   "source": [
    "# Method 2: \"Average darkness\" (find the number whose \"average darkness\" is closest to the test example)\n",
    "\n",
    "def avgDark(imageAndLab):\n",
    "    totalAndCount = [[0,0] for _ in range(10)]\n",
    "    for digit in imageAndLab:\n",
    "        img = digit[0]\n",
    "        character = digit[1]\n",
    "        totalAndCount[character][1] += 1\n",
    "        totalAndCount[character][0] += sum([sum(i) for i in zip(*img)])\n",
    "    for i in range(len(totalAndCount)):\n",
    "        totalAndCount[i] = totalAndCount[i][0] / totalAndCount[i][1]\n",
    "    return totalAndCount"
   ]
  },
  {
   "cell_type": "code",
   "execution_count": 7,
   "metadata": {
    "collapsed": true
   },
   "outputs": [],
   "source": [
    "def avgDarkPred(model, testingDigits):\n",
    "    predictions = []\n",
    "    for digit in testingDigits:\n",
    "        digitDark = sum([sum(i) for i in zip(*digit)])\n",
    "        darkDiff = [abs(digitDark - avgDark) for avgDark in model]\n",
    "        predictions.append(darkDiff.index(min(darkDiff)))\n",
    "    return predictions"
   ]
  },
  {
   "cell_type": "code",
   "execution_count": 8,
   "metadata": {
    "collapsed": true
   },
   "outputs": [],
   "source": [
    "avgDarkModel = avgDark(trainingData)"
   ]
  },
  {
   "cell_type": "code",
   "execution_count": 9,
   "metadata": {},
   "outputs": [
    {
     "name": "stdout",
     "output_type": "stream",
     "text": [
      "Accuracy when average darkness: 0.223\n"
     ]
    }
   ],
   "source": [
    "model2Preds = avgDarkPred(avgDarkModel, [digit[0] for digit in testingData])\n",
    "model2Acc = getAccuracy(model2Preds, [digit[1] for digit in testingData])\n",
    "print('Accuracy when average darkness: ' + str(model2Acc))"
   ]
  },
  {
   "cell_type": "code",
   "execution_count": 10,
   "metadata": {
    "collapsed": true
   },
   "outputs": [],
   "source": [
    "# Method 3\"Nearest neighbor\" (find the single training example in Euclidean space that is closest to the test example)"
   ]
  },
  {
   "cell_type": "code",
   "execution_count": 11,
   "metadata": {
    "collapsed": true
   },
   "outputs": [],
   "source": [
    "# Create distance for calculating euclidean distance\n",
    "def distance(point1, point2):\n",
    "    difference = np.array(point1) - np.array(point2)\n",
    "    return LA.norm(difference)"
   ]
  },
  {
   "cell_type": "code",
   "execution_count": null,
   "metadata": {
    "collapsed": true
   },
   "outputs": [],
   "source": [
    "def nneighbor(trainingData, testDataImgs):\n",
    "    predictedDigits = []\n",
    "\n",
    "    trainingImages = [digit[0] for digit in trainingData]\n",
    "    nnDistance = np.vectorize(distance)\n",
    "    for image in testDataImgs:\n",
    "        distances = nnDistance(trainingImages, image)\n",
    "        indexOfSmallest = distances.index(min(distances))\n",
    "        predictedDigits.append(trainingData[indexOfSmallest][1])\n",
    "    return predictedDigits"
   ]
  },
  {
   "cell_type": "code",
   "execution_count": null,
   "metadata": {},
   "outputs": [],
   "source": [
    "model3Preds = nneighbor(trainingData, [digit[0] for digit in testingData])\n",
    "model3Acc = getAccuracy(model3Preds, [digit[1] for digit in testingData])\n",
    "print('Accuracy with nearest neighbor: ' + str(model3Acc))"
   ]
  },
  {
   "cell_type": "code",
   "execution_count": null,
   "metadata": {
    "collapsed": true
   },
   "outputs": [],
   "source": []
  }
 ],
 "metadata": {
  "kernelspec": {
   "display_name": "Python 3",
   "language": "python",
   "name": "python3"
  },
  "language_info": {
   "codemirror_mode": {
    "name": "ipython",
    "version": 3
   },
   "file_extension": ".py",
   "mimetype": "text/x-python",
   "name": "python",
   "nbconvert_exporter": "python",
   "pygments_lexer": "ipython3",
   "version": "3.6.3"
  }
 },
 "nbformat": 4,
 "nbformat_minor": 2
}
