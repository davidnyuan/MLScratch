{
 "cells": [
  {
   "cell_type": "code",
   "execution_count": 1,
   "metadata": {
    "collapsed": true
   },
   "outputs": [],
   "source": [
    "import numpy as np\n",
    "import struct"
   ]
  },
  {
   "cell_type": "code",
   "execution_count": 2,
   "metadata": {
    "collapsed": true
   },
   "outputs": [],
   "source": [
    "def getData(trainOrTest = 'testing'):\n",
    "    \n",
    "    if trainOrTest == \"training\":\n",
    "        fname_img = \"./Data/trainSetImg\"\n",
    "        fname_lbl = \"./Data/trainSetLab\"\n",
    "    else:\n",
    "        fname_img = \"./Data/testSetImg\"\n",
    "        fname_lbl = \"./Data/testSetLab\"\n",
    "\n",
    "    # Load everything in some numpy arrays\n",
    "    with open(fname_lbl, 'rb') as flbl:\n",
    "        magic, num = struct.unpack(\">II\", flbl.read(8))\n",
    "        lbl = np.fromfile(flbl, dtype=np.int8)\n",
    "\n",
    "    with open(fname_img, 'rb') as fimg:\n",
    "        magic, num, rows, cols = struct.unpack(\">IIII\", fimg.read(16))\n",
    "        img = np.fromfile(fimg, dtype=np.uint8).reshape(len(lbl), rows, cols)\n",
    "\n",
    "    return list(zip(img, lbl))"
   ]
  },
  {
   "cell_type": "code",
   "execution_count": 3,
   "metadata": {},
   "outputs": [],
   "source": [
    "trainingData = getData('training')\n",
    "testingData = getData('testing')"
   ]
  },
  {
   "cell_type": "code",
   "execution_count": 10,
   "metadata": {
    "collapsed": true
   },
   "outputs": [],
   "source": [
    "def getAccuracy(list1, list2):\n",
    "    if len(list1) != len(list2):\n",
    "        return 'Error: sizes are not the same'\n",
    "    counter = 0\n",
    "    for i, j in zip(list1, list2):\n",
    "        if i == j: \n",
    "            counter += 1\n",
    "    return counter / len(list1)"
   ]
  },
  {
   "cell_type": "code",
   "execution_count": 13,
   "metadata": {},
   "outputs": [
    {
     "name": "stdout",
     "output_type": "stream",
     "text": [
      "Accuracy when always predicting 0: 0.098\n"
     ]
    }
   ],
   "source": [
    "# Method 1: Always guess 0\n",
    "def predictZero(data):\n",
    "    return [0] * len(data)\n",
    "\n",
    "accuracy = getAccuracy(predictZero(testingData), [digit[1] for digit in testingData])\n",
    "print('Accuracy when always predicting 0: ' + str(accuracy))"
   ]
  },
  {
   "cell_type": "code",
   "execution_count": null,
   "metadata": {
    "collapsed": true
   },
   "outputs": [],
   "source": [
    "# Method 2: \"Average darkness\" (find the number whose \"average darkness\" is closest to the test example)"
   ]
  }
 ],
 "metadata": {
  "kernelspec": {
   "display_name": "Python 3",
   "language": "python",
   "name": "python3"
  },
  "language_info": {
   "codemirror_mode": {
    "name": "ipython",
    "version": 3
   },
   "file_extension": ".py",
   "mimetype": "text/x-python",
   "name": "python",
   "nbconvert_exporter": "python",
   "pygments_lexer": "ipython3",
   "version": "3.6.3"
  }
 },
 "nbformat": 4,
 "nbformat_minor": 2
}
